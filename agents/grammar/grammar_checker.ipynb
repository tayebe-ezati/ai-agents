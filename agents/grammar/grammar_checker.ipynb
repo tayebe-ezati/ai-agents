{
 "cells": [
  {
   "cell_type": "code",
   "execution_count": 1,
   "id": "36caab90",
   "metadata": {},
   "outputs": [
    {
     "name": "stdout",
     "output_type": "stream",
     "text": [
      "Original: She go to school yesterday and he don't like it.\n",
      "Corrected: She goes to school yesterday and he doesn't like it.\n",
      "Issues: [{'message': 'The pronoun ‘She’ is usually used with a third-person or a past tense verb.', 'offset': 4, 'length': 2, 'suggestions': ['goes', 'went']}, {'message': 'The pronoun ‘he’ is usually used with a third-person or a past tense verb.', 'offset': 34, 'length': 2, 'suggestions': ['does', 'did']}]\n"
     ]
    }
   ],
   "source": [
    "# grammar_checker.py\n",
    "import language_tool_python\n",
    "\n",
    "# یک تابع ساده که متن ورودی را بررسی و اصلاح می‌کند\n",
    "def check_and_correct(text):\n",
    "    tool = language_tool_python.LanguageTool('en-US')  # زبان: انگلیسی آمریکا\n",
    "    matches = tool.check(text)        # لیست خطاها و پیشنهادها\n",
    "    corrected = tool.correct(text)    # متن اصلاح‌شده\n",
    "    # تبدیل matchها به لیستی از توضیحات ساده\n",
    "    issues = []\n",
    "    for m in matches:\n",
    "        issues.append({\n",
    "            \"message\": m.message,\n",
    "            \"offset\": m.offset,\n",
    "            \"length\": m.errorLength,\n",
    "            \"suggestions\": m.replacements[:3]  # اولین 3 پیشنهاد\n",
    "        })\n",
    "    return corrected, issues\n",
    "\n",
    "# تست سریع\n",
    "if __name__ == \"__main__\":\n",
    "    sample = \"She go to school yesterday and he don't like it.\"\n",
    "    corr, issues = check_and_correct(sample)\n",
    "    print(\"Original:\", sample)\n",
    "    print(\"Corrected:\", corr)\n",
    "    print(\"Issues:\", issues)\n"
   ]
  }
 ],
 "metadata": {
  "kernelspec": {
   "display_name": ".venv",
   "language": "python",
   "name": "python3"
  },
  "language_info": {
   "codemirror_mode": {
    "name": "ipython",
    "version": 3
   },
   "file_extension": ".py",
   "mimetype": "text/x-python",
   "name": "python",
   "nbconvert_exporter": "python",
   "pygments_lexer": "ipython3",
   "version": "3.12.9"
  }
 },
 "nbformat": 4,
 "nbformat_minor": 5
}
