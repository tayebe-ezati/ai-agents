{
 "cells": [
  {
   "cell_type": "code",
   "execution_count": null,
   "id": "9b9240ac",
   "metadata": {
    "vscode": {
     "languageId": "plaintext"
    }
   },
   "outputs": [],
   "source": [
    "# data_summary.py\n",
    "import pandas as pd\n",
    "import matplotlib.pyplot as plt\n",
    "import seaborn as sns\n",
    "from pathlib import Path\n",
    "\n",
    "OUT_DIR = Path(\"outputs\")\n",
    "OUT_DIR.mkdir(parents=True, exist_ok=True)\n",
    "\n",
    "def summarize_csv(path_or_buffer):\n",
    "    # path_or_buffer می‌تواند مسیر فایل باشد یا فایل آپلود شده در استریم‌لیت\n",
    "    df = pd.read_csv(path_or_buffer)\n",
    "    # اطلاعات پایه\n",
    "    info = {\n",
    "        \"shape\": df.shape,\n",
    "        \"missing\": df.isnull().sum().to_dict(),\n",
    "        \"describe\": df.describe(include='all').to_dict()\n",
    "    }\n",
    "    # اگر دیتاست تایتانیک است، نمودار نرخ بقا بر اساس جنسیت بساز\n",
    "    if {'Survived', 'Sex'}.issubset(df.columns):\n",
    "        plt.figure(figsize=(5,5))\n",
    "        sns.barplot(x=\"Sex\", y=\"Survived\", data=df, palette=[\"#4C72B0\", \"#DD8452\"])\n",
    "        plt.ylim(0,1)\n",
    "        plt.title(\"Survival Rate by Sex\")\n",
    "        out_path = OUT_DIR / \"survival_by_sex.png\"\n",
    "        plt.savefig(out_path, dpi=200, bbox_inches=\"tight\")\n",
    "        plt.close()\n",
    "        info[\"output_plot\"] = str(out_path)\n",
    "    return info\n",
    "\n",
    "# تست محلی (اگر خواستی مسیر را عوض کنی)\n",
    "if __name__ == \"__main__\":\n",
    "    print(\"Put a sample CSV path into summarize_csv(...) to test.\")\n"
   ]
  }
 ],
 "metadata": {
  "language_info": {
   "name": "python"
  }
 },
 "nbformat": 4,
 "nbformat_minor": 5
}
